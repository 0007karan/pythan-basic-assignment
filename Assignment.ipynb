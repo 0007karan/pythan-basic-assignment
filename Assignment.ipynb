{
 "cells": [
  {
   "cell_type": "code",
   "execution_count": 1,
   "id": "0e28f98a-765a-407e-91de-0eaae66dbad1",
   "metadata": {},
   "outputs": [],
   "source": [
    "#Q1\n",
    "a=\"karankumnar\"\n",
    "b=[12,34,89.8676,'bihar',True]\n",
    "c=67.770\n",
    "d=(66,54,89,False,'name')"
   ]
  },
  {
   "cell_type": "code",
   "execution_count": 1,
   "id": "2481f6f4-f508-40a7-acfb-5901ed464bb6",
   "metadata": {},
   "outputs": [],
   "source": [
    "#Q2(i)\n",
    "var1=''"
   ]
  },
  {
   "cell_type": "code",
   "execution_count": 3,
   "id": "9b7ffd74-7e5e-4cec-8655-41b79b34e5b9",
   "metadata": {},
   "outputs": [
    {
     "data": {
      "text/plain": [
       "str"
      ]
     },
     "execution_count": 3,
     "metadata": {},
     "output_type": "execute_result"
    }
   ],
   "source": [
    "type(var1)"
   ]
  },
  {
   "cell_type": "code",
   "execution_count": 9,
   "id": "f64ebe33-910a-4f81-b15a-b13379dbd0c9",
   "metadata": {},
   "outputs": [],
   "source": [
    "#Q2(ii)\n",
    "var2='[DS,ML,Python]'"
   ]
  },
  {
   "cell_type": "code",
   "execution_count": 10,
   "id": "3f47858e-2af5-4085-8975-af87b7a21420",
   "metadata": {},
   "outputs": [
    {
     "data": {
      "text/plain": [
       "str"
      ]
     },
     "execution_count": 10,
     "metadata": {},
     "output_type": "execute_result"
    }
   ],
   "source": [
    "type(var2)"
   ]
  },
  {
   "cell_type": "code",
   "execution_count": 10,
   "id": "b164c62b-4225-4e9d-8949-424aa275c766",
   "metadata": {},
   "outputs": [],
   "source": [
    "#Q2(iii)\n",
    "var3=['DS','ML','python']"
   ]
  },
  {
   "cell_type": "code",
   "execution_count": 11,
   "id": "402dcc90-0f4d-4ce9-a307-51e0cea10b9a",
   "metadata": {},
   "outputs": [
    {
     "data": {
      "text/plain": [
       "list"
      ]
     },
     "execution_count": 11,
     "metadata": {},
     "output_type": "execute_result"
    }
   ],
   "source": [
    "type(var3)"
   ]
  },
  {
   "cell_type": "code",
   "execution_count": 12,
   "id": "ce2042ad-469f-4d75-8071-c6b2381d694c",
   "metadata": {},
   "outputs": [],
   "source": [
    "#Q2(iv)\n",
    "var4=1."
   ]
  },
  {
   "cell_type": "code",
   "execution_count": 13,
   "id": "4529ba51-c5a0-4b92-980a-4ba6c4a89815",
   "metadata": {},
   "outputs": [
    {
     "data": {
      "text/plain": [
       "float"
      ]
     },
     "execution_count": 13,
     "metadata": {},
     "output_type": "execute_result"
    }
   ],
   "source": [
    "type(var4)"
   ]
  },
  {
   "cell_type": "code",
   "execution_count": 3,
   "id": "30c4a7ad-114d-495e-8e1f-242ccadc2933",
   "metadata": {},
   "outputs": [
    {
     "data": {
      "text/plain": [
       "4.0"
      ]
     },
     "execution_count": 3,
     "metadata": {},
     "output_type": "execute_result"
    }
   ],
   "source": [
    "#Q3(i)\n",
    "#(/) it is symbol of division when i divide 20/5,the result outcome 4\n",
    "20/5"
   ]
  },
  {
   "cell_type": "code",
   "execution_count": 4,
   "id": "b42e7c42-45a7-4510-b771-347612d72a47",
   "metadata": {},
   "outputs": [
    {
     "data": {
      "text/plain": [
       "5"
      ]
     },
     "execution_count": 4,
     "metadata": {},
     "output_type": "execute_result"
    }
   ],
   "source": [
    "#Q3(ii)\n",
    "\n",
    "5%20"
   ]
  },
  {
   "cell_type": "code",
   "execution_count": 9,
   "id": "ee073830-2ca0-4ba1-836c-4d1f05292e35",
   "metadata": {},
   "outputs": [
    {
     "data": {
      "text/plain": [
       "0"
      ]
     },
     "execution_count": 9,
     "metadata": {},
     "output_type": "execute_result"
    }
   ],
   "source": [
    "4//40"
   ]
  },
  {
   "cell_type": "code",
   "execution_count": 6,
   "id": "9c53e8e4-b2a5-479e-ad34-12bddf624cd6",
   "metadata": {},
   "outputs": [
    {
     "data": {
      "text/plain": [
       "25"
      ]
     },
     "execution_count": 6,
     "metadata": {},
     "output_type": "execute_result"
    }
   ],
   "source": [
    "#Q3(iv)\n",
    "#it is symbol(**) of square for example\n",
    "5**2"
   ]
  },
  {
   "cell_type": "code",
   "execution_count": 7,
   "id": "5409ab6d-ddf5-4ad8-9500-f72baee4ede0",
   "metadata": {},
   "outputs": [],
   "source": [
    "#Q4\n",
    "a=[70,77,45,'kumar','bihar',True,5+7j,83.6,8,65]"
   ]
  },
  {
   "cell_type": "code",
   "execution_count": 6,
   "id": "e9a9ad9e-fa94-4dc7-8c92-a87d6b3b8946",
   "metadata": {},
   "outputs": [
    {
     "name": "stdout",
     "output_type": "stream",
     "text": [
      "70\n",
      "77\n",
      "45\n",
      "kumar\n",
      "bihar\n",
      "True\n",
      "(5+7j)\n",
      "83.6\n",
      "8\n",
      "65\n"
     ]
    }
   ],
   "source": [
    "for i in a:\n",
    "    print(i)"
   ]
  },
  {
   "cell_type": "code",
   "execution_count": 17,
   "id": "3c4e1588-b5c7-48a2-9d6e-fd05183e0370",
   "metadata": {},
   "outputs": [],
   "source": [
    "#Q7\n",
    "\n",
    "#mutable = which obj i can assign that is called mutablity\n",
    "#immutable =which obj i can't assign that is called immutablity\n",
    "u=[89,56,4,'apple']\n",
    "y='instagram'"
   ]
  },
  {
   "cell_type": "code",
   "execution_count": 12,
   "id": "a20d2fdb-f94e-40d6-8831-044d5959bc17",
   "metadata": {},
   "outputs": [],
   "source": [
    "u[1]=55"
   ]
  },
  {
   "cell_type": "code",
   "execution_count": 14,
   "id": "91765ceb-c2e3-4362-a6f0-8dc70f6eb225",
   "metadata": {},
   "outputs": [
    {
     "data": {
      "text/plain": [
       "[89, 55, 4, 'apple']"
      ]
     },
     "execution_count": 14,
     "metadata": {},
     "output_type": "execute_result"
    }
   ],
   "source": [
    "#here i can assign its called mutablity\n",
    "u"
   ]
  },
  {
   "cell_type": "code",
   "execution_count": 16,
   "id": "a2271eec-44c6-4e16-9574-afdab665e78f",
   "metadata": {},
   "outputs": [
    {
     "ename": "TypeError",
     "evalue": "'str' object does not support item assignment",
     "output_type": "error",
     "traceback": [
      "\u001b[0;31m---------------------------------------------------------------------------\u001b[0m",
      "\u001b[0;31mTypeError\u001b[0m                                 Traceback (most recent call last)",
      "Cell \u001b[0;32mIn[16], line 1\u001b[0m\n\u001b[0;32m----> 1\u001b[0m \u001b[43my\u001b[49m\u001b[43m[\u001b[49m\u001b[38;5;241;43m2\u001b[39;49m\u001b[43m]\u001b[49m\u001b[38;5;241m=\u001b[39m\u001b[38;5;124m'\u001b[39m\u001b[38;5;124me\u001b[39m\u001b[38;5;124m'\u001b[39m\n",
      "\u001b[0;31mTypeError\u001b[0m: 'str' object does not support item assignment"
     ]
    }
   ],
   "source": [
    "y[2]='e'"
   ]
  },
  {
   "cell_type": "code",
   "execution_count": null,
   "id": "43516216-6925-4d12-aea3-96c1251a5748",
   "metadata": {},
   "outputs": [],
   "source": []
  }
 ],
 "metadata": {
  "kernelspec": {
   "display_name": "Python 3 (ipykernel)",
   "language": "python",
   "name": "python3"
  },
  "language_info": {
   "codemirror_mode": {
    "name": "ipython",
    "version": 3
   },
   "file_extension": ".py",
   "mimetype": "text/x-python",
   "name": "python",
   "nbconvert_exporter": "python",
   "pygments_lexer": "ipython3",
   "version": "3.10.8"
  }
 },
 "nbformat": 4,
 "nbformat_minor": 5
}
